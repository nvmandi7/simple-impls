{
 "cells": [
  {
   "cell_type": "markdown",
   "metadata": {},
   "source": [
    "# Implementing RAG from scratch\n",
    "\n",
    "### Main Steps\n",
    "- Document processing\n",
    "  - Preprocess text corpus (case, punc, stop words, stems), tokenize\n",
    "  - Chunk and embed (choose model)\n",
    "- Query pipeline\n",
    "  - Receive and embed query\n",
    "  - Retrieve\n",
    "  - Assemble Prompt\n",
    "  - Generate response"
   ]
  },
  {
   "cell_type": "code",
   "execution_count": 1,
   "metadata": {},
   "outputs": [
    {
     "name": "stderr",
     "output_type": "stream",
     "text": [
      "/Users/nathanmandi/opt/anaconda3/envs/py10/lib/python3.10/site-packages/sentence_transformers/cross_encoder/CrossEncoder.py:11: TqdmWarning: IProgress not found. Please update jupyter and ipywidgets. See https://ipywidgets.readthedocs.io/en/stable/user_install.html\n",
      "  from tqdm.autonotebook import tqdm, trange\n",
      "[nltk_data] Downloading package stopwords to\n",
      "[nltk_data]     /Users/nathanmandi/nltk_data...\n",
      "[nltk_data]   Package stopwords is already up-to-date!\n",
      "[nltk_data] Downloading package punkt to\n",
      "[nltk_data]     /Users/nathanmandi/nltk_data...\n",
      "[nltk_data]   Package punkt is already up-to-date!\n"
     ]
    },
    {
     "data": {
      "text/plain": [
       "True"
      ]
     },
     "execution_count": 1,
     "metadata": {},
     "output_type": "execute_result"
    }
   ],
   "source": [
    "import nltk\n",
    "from nltk.corpus import stopwords\n",
    "from string import punctuation as PUNCTUATION\n",
    "from pypdf import PdfReader\n",
    "\n",
    "import numpy as np\n",
    "from sentence_transformers import SentenceTransformer\n",
    "\n",
    "nltk.download('stopwords')\n",
    "nltk.download('punkt')"
   ]
  },
  {
   "cell_type": "markdown",
   "metadata": {},
   "source": [
    "## Preprocessing and Knowledgebase Construction"
   ]
  },
  {
   "cell_type": "code",
   "execution_count": 2,
   "metadata": {},
   "outputs": [
    {
     "name": "stdout",
     "output_type": "stream",
     "text": [
      "Technology  | July 7, 2022\n",
      "4 Ways Dynamic Baselines Can Transform\n",
      "Carbon Crediting\n",
      "Today’s static approach to baselines fails to capture\n",
      "the constantly evolving nature of land use and our\n",
      "forests. We believe a tech-driven, dynamic approach\n",
      "can transform carbon crediting in four key ways.\n",
      "Last year, our planet lost 25.3 million hectares of forest, an area greater than the\n",
      "size of the United Kingdom.1 The emissions associated to forest loss are sizable,\n",
      "equivalent to as much as one-tenth to one-quarter of fossil fuel emissions each\n",
      "year.2 3 The carbon market offers a way to pay landowners to protect their forests\n",
      "and reduce these carbon emissions.\n",
      "But, paying landowners who are already protecting their forests clearly does not\n",
      "reduce emissions. For the carbon market to produce net climate benefits, credits\n",
      "must only be awarded to landowners who wouldn’t have protected their forest\n",
      "otherwise. But how do we know what a landowner would have done if they hadn’t\n",
      "received funds from a carbon project? This ‘what if’ scenario is where baselines\n",
      "become very important to carbon markets.\n",
      "What is a “baseline” and why does it matter? \n",
      "A baseline represents business-as-usual without a carbon project.  The number of\n",
      "credits issued to a landowner annually is the difference between project and\n",
      "baseline carbon emissions – in other words, the difference in emissions with and\n",
      "without a carbon project.\n",
      "So, it’s not surprising that the baseline often has the largest influence on how\n",
      "many carbon credits a project receives. And, as a result, baselines have rightly\n",
      "come under increasing scrutiny. If a baseline is inaccurate, a project can be issued too many (or too few) credits, calling into question the legitimacy of forest\n",
      "carbon offsets.\n",
      "How are baselines calculated today?\n",
      "Methods for calculating baselines vary widely across carbon registries, but\n",
      "almost all try to predict future deforestation based on the past. More robust\n",
      "methods use an actual area nearby the project to predict future deforestation,\n",
      "but still allow a lot of ad hoc, project-by-project discretion when selecting that\n",
      "reference area.4\n",
      "In the end, all current methods rest on the strong assumption that the future will\n",
      "be the same as the past. And, of course, the future is unpredictable. Things\n",
      "change. Things we can’t possibly predict, such as swings in crop prices, election\n",
      "outcomes, or a pandemic. All of these things can alter business-as-usual\n",
      "deforestation.\n",
      "Pachama’s analysis suggests that recent deforestation can differ from past\n",
      "deforestation by more than 40% .5 However, baselines today are rarely, if ever,\n",
      "updated over the project’s crediting period. When a project receives too many\n",
      "credits due to a static, out-of-date baseline, the climate ultimately suffers,\n",
      "because those excess credits do not represent real emissions reductions.\n",
      "Some credit registries are now moving toward more frequent baseline updates,\n",
      "or even adopting dynamic baselines. Pachama is actively developing and testing\n",
      "dynamic baselines for credit issuance.\n",
      "How does Pachama calculate dynamic\n",
      "baselines?\n",
      "A dynamic baseline does not attempt to predict future deforestation. Pachama\n",
      "uses satellites to observe the constantly changing reality on the ground. In fact,\n",
      "we match each satellite pixel in a project to a pixel outside the project across a\n",
      "range of attributes, such as distance to the nearest road, topography, and forest vegetation density (Fig. 1).\n",
      "These matching pixels are no different than a control group in any scientific\n",
      "experiment or drug trial. For this reason, we actually call them control areas. \n",
      "We don’t have to predict what would have happened without a carbon project.\n",
      "We observe emissions in the control area – the matching pixels without a carbon\n",
      "project (Fig. 2).\n",
      "How enterprises can invest in tech-veriﬁed carbon credits\n",
      "Four ways dynamic baselines can transform\n",
      "carbon crediting\n",
      "A dynamic baseline is observed, not predicted.  To compute the dynamic 1.\n",
      "baseline each year, Pachama just observes carbon emissions in the control area. The control area is matched to the project to ensure that both\n",
      "experience similar background land use. So if political events, economic\n",
      "swings, or other unexpected shocks alter background deforestation, baseline\n",
      "emissions should adjust automatically.\n",
      "The uncertainty of a dynamic baseline can be quantified against actual2.\n",
      "observations. Current baselines do not report uncertainty. In other words,\n",
      "they are assumed to be perfectly accurate year after year. Pachama actually\n",
      "quantifies baseline uncertainty by constructing control areas for psuedo\n",
      "projects – randomly selected areas without a carbon project. Because the\n",
      "psuedo and its matching control area both have no carbon project, their\n",
      "annual carbon emissions should match. We can compute baseline uncertainty\n",
      "based on how well they match. The number of credits issued can then be\n",
      "adjusted to account for uncertainty.\n",
      "Control areas compare like with like.  Some registries have allowed 3.\n",
      "unrealistically aggressive baselines for projects on public lands, for example.\n",
      "In contrast, our approach would not make assumptions about activity on\n",
      "public lands, but select and observe control areas on other public lands\n",
      "without carbon projects.\n",
      "Baseline calculations are simplified and unified across project types. Today, 4.\n",
      "Pachama is focused on baseline development and validation for avoided\n",
      "deforestation projects, but with additional development, this approach can\n",
      "work for reforestation and improved forest management (IFM) projects as\n",
      "well.\n",
      "  Next steps\n",
      "Pachama intends to use a dynamic baseline to evaluate existing carbon projects\n",
      "and originate new projects. And we take validation and transparency very\n",
      "seriously. Below are several areas of focus for the Pachama team:\n",
      "Baseline Validation: We want to demonstrate that a dynamic baseline\n",
      "quantifies project emissions reductions more accurately than status quo\n",
      "baseline methods.\n",
      "Baseline Uncertainty: We are also working to quantify the uncertainty bounds\n",
      "around our dynamic baseline using psuedo projects (described above). We\n",
      "are seeking to reduce baseline uncertainty by investigating factors, such as\n",
      "the size of the search region and choice of satellite observations for selecting\n",
      "control areas. Impact on Landowners: As Pachama and the broader carbon market move\n",
      "toward dynamic baselines, we’ve heard concern from landowners about\n",
      "losing the predictable credit issuance that a static baseline affords. Even\n",
      "though dynamic credit issuance may vary more from year-to-year, longer-\n",
      "term average issuance may remain fairly steady. We anticipate that\n",
      "increasing prices for higher quality credits can compensate in part for\n",
      "increased issuance risk. However, there are also ways to reduce issuance\n",
      "uncertainty for landowners without compromising credit integrity. For\n",
      "example, project developers or a platform, like Pachama, could assume the\n",
      "baseline volatility risk and provide fixed payments to landowners. The Family\n",
      "Forest Carbon Program of the American Forest Foundation has piloted\n",
      "exactly this type of risk-sharing partnership.\n",
      "In our next technical article, we will share initial results from our dynamic\n",
      "baseline validation work, including example dynamic baselines for real projects.\n",
      "To uphold our mission to increase market transparency, we will share the\n",
      "complete validation in a forthcoming Algorithm Validation Document (AVD). We\n",
      "will also be providing a more detailed technical description of the data and\n",
      "methods for computing the dynamic baseline in our Algorithm Methods\n",
      "Document (AMD) . Our current focus is on developing and validating the dynamic\n",
      "baseline for avoided deforestation projects before extending our methods to\n",
      "reforestation and improved forest management (IFM) projects.\n",
      "Going forward, we hope to share our ongoing work on dynamic baselines more\n",
      "frequently with market participants, experts, and the general public. Pachama is\n",
      "committed to transparency so that crediting calculations can be open and readily\n",
      "understandable to all. Stay tuned for our upcoming methods and validation\n",
      "documents. \n",
      "We welcome your questions or feedback at science@pachama.com . For media\n",
      "inquiries please contact us at media@pachama.com. Ready to learn more?\n",
      "Get in touch with our team to learn how we can help you invest in tech-verified\n",
      "projects or start your own project from the ground up.\n",
      "Contact Our Team\n",
      "FOOTNOTES\n",
      "Global Forest Watch  reported gross tree cover loss of 25.3 million hectares in 1.\n",
      "2021. This does not include areas of tree cover gain. The area of the United\n",
      "Kingdom is approximately 24.4 million hectares. 1 hectare equals 10,000 m2\n",
      "or 2.47 acres.\n",
      "Global Forest Watch  estimates deforestation CO2 emissions of 176 billion 2.\n",
      "metric tons over the period 2001-2021, or 8.4 billion metric tons per year.\n",
      "Annual fossil fuel emissions are approximately 34.4 billion metric tons per\n",
      "year (1).\n",
      "Fires to clear forest for agriculture directly release carbon to the3.\n",
      "atmosphere. However, deforestation for timber and paper production also\n",
      "releases carbon, as the timber and paper products decompose over time:\n",
      "toilet paper, napkins, and disposable paper packaging within several months\n",
      "to a few years; cardboard, office paper, and newspaper and magazines within\n",
      "several years as fibers deteriorate with each recycling; and wood products,\n",
      "such as furniture, over a longer period, although this carbon too eventually\n",
      "reaches the atmosphere.\n",
      "VM0015 Methodology for Avoided Unplanned Deforestation  is an example of 4.\n",
      "a methodology that uses a manually selected reference area\n",
      "We compared 5-year average deforestation rates before and after 2015 in5.\n",
      "1,000 randomly sampled 1 million hectare bounding boxes across the Amazon\n",
      "using annual PRODES deforestation maps produced by the Brazilian Space\n",
      "Agency (2). The average difference between recent (after 2015) and past (before 2015) deforestation was >40%.\n",
      "REFERENCES\n",
      "Friedlingstein P, O’Sullivan M, Jones MW, Andrew RM, Hauck J, Olsen A, et1.\n",
      "al. Global carbon budget 2020. Earth Syst Sci Data. 2020;12: 3269–3340.\n",
      "Instituto Nacional de Pesquisas Espaciais (INPE). PRODES. 2020. Portal2.\n",
      "TerraBrasilis.Hansen MC, Potapov PV, Moore R, Hancher M, Turubanova SA,\n",
      "Tyukavina A, et al. High-resolution global maps of 21st-century forest cover\n",
      "change. Science.\n",
      "Hansen MC, Potapov PV, Moore R, Hancher M, Turubanova SA, Tyukavina A,3.\n",
      "et al. High-resolution global maps of 21st-century forest cover change.\n",
      "Science.\n"
     ]
    }
   ],
   "source": [
    "# Convert document to list of tokens\n",
    "reader = PdfReader(\"4 Ways Dynamic Baselines Can Transform Carbon Crediting (1).pdf\")\n",
    "text = \" \".join([page.extract_text() for page in reader.pages])\n",
    "print(text)"
   ]
  },
  {
   "cell_type": "code",
   "execution_count": 3,
   "metadata": {},
   "outputs": [
    {
     "name": "stdout",
     "output_type": "stream",
     "text": [
      "['technology', 'july', '7', '2022', '4', 'ways', 'dynamic', 'baselines', 'transform', 'carbon', 'crediting', 'today', 'static', 'approach', 'baselines', 'fails', 'capture', 'constantly', 'evolving', 'nature', 'land', 'use', 'forests', 'believe', 'tech-driven', 'dynamic', 'approach', 'transform', 'carbon', 'crediting', 'four', 'key', 'ways', 'last', 'year', 'planet', 'lost', '25.3', 'million', 'hectares', 'forest', 'area', 'greater', 'size', 'united', 'kingdom.1', 'emissions', 'associated', 'forest', 'loss', 'sizable', 'equivalent', 'much', 'one-tenth', 'one-quarter', 'fossil', 'fuel', 'emissions', 'year.2', '3', 'carbon', 'market', 'offers', 'way', 'pay', 'landowners', 'protect', 'forests', 'reduce', 'carbon', 'emissions', 'paying', 'landowners', 'already', 'protecting', 'forests', 'clearly', 'reduce', 'emissions', 'carbon', 'market', 'produce', 'net', 'climate', 'benefits', 'credits', 'must', 'awarded', 'landowners', 'protected', 'forest', 'otherwise', 'know', 'landowner', 'would', 'done', 'received', 'funds', 'carbon', 'project', '‘', 'scenario', 'baselines', 'become', 'important', 'carbon', 'markets', '“', 'baseline', '”', 'matter', 'baseline', 'represents', 'business-as-usual', 'without', 'carbon', 'project', 'number', 'credits', 'issued', 'landowner', 'annually', 'difference', 'project', 'baseline', 'carbon', 'emissions', '–', 'words', 'difference', 'emissions', 'without', 'carbon', 'project', 'surprising', 'baseline', 'often', 'largest', 'influence', 'many', 'carbon', 'credits', 'project', 'receives', 'result', 'baselines', 'rightly', 'come', 'increasing', 'scrutiny', 'baseline', 'inaccurate', 'project', 'issued', 'many', 'credits', 'calling', 'question', 'legitimacy', 'forest', 'carbon', 'offsets', 'baselines', 'calculated', 'today', 'methods', 'calculating', 'baselines', 'vary', 'widely', 'across', 'carbon', 'registries', 'almost', 'try', 'predict', 'future', 'deforestation', 'based', 'past', 'robust', 'methods', 'use', 'actual', 'area', 'nearby', 'project', 'predict', 'future', 'deforestation', 'still', 'allow', 'lot', 'ad', 'hoc', 'project-by-project', 'discretion', 'selecting', 'reference', 'area.4', 'end', 'current', 'methods', 'rest', 'strong', 'assumption', 'future', 'past', 'course', 'future', 'unpredictable', 'things', 'change', 'things', 'possibly', 'predict', 'swings', 'crop', 'prices', 'election', 'outcomes', 'pandemic', 'things', 'alter', 'business-as-usual', 'deforestation', 'pachama', 'analysis', 'suggests', 'recent', 'deforestation', 'differ', 'past', 'deforestation', '40', '.5', 'however', 'baselines', 'today', 'rarely', 'ever', 'updated', 'project', 'crediting', 'period', 'project', 'receives', 'many', 'credits', 'due', 'static', 'out-of-date', 'baseline', 'climate', 'ultimately', 'suffers', 'excess', 'credits', 'represent', 'real', 'emissions', 'reductions', 'credit', 'registries', 'moving', 'toward', 'frequent', 'baseline', 'updates', 'even', 'adopting', 'dynamic', 'baselines', 'pachama', 'actively', 'developing', 'testing', 'dynamic', 'baselines', 'credit', 'issuance', 'pachama', 'calculate', 'dynamic', 'baselines', 'dynamic', 'baseline', 'attempt', 'predict', 'future', 'deforestation', 'pachama', 'uses', 'satellites', 'observe', 'constantly', 'changing', 'reality', 'ground', 'fact', 'match', 'satellite', 'pixel', 'project', 'pixel', 'outside', 'project', 'across', 'range', 'attributes', 'distance', 'nearest', 'road', 'topography', 'forest', 'vegetation', 'density', 'fig', '1', 'matching', 'pixels', 'different', 'control', 'group', 'scientific', 'experiment', 'drug', 'trial', 'reason', 'actually', 'call', 'control', 'areas', 'predict', 'would', 'happened', 'without', 'carbon', 'project', 'observe', 'emissions', 'control', 'area', '–', 'matching', 'pixels', 'without', 'carbon', 'project', 'fig', '2', 'enterprises', 'invest', 'tech-veriﬁed', 'carbon', 'credits', 'four', 'ways', 'dynamic', 'baselines', 'transform', 'carbon', 'crediting', 'dynamic', 'baseline', 'observed', 'predicted', 'compute', 'dynamic', '1.', 'baseline', 'year', 'pachama', 'observes', 'carbon', 'emissions', 'control', 'area', 'control', 'area', 'matched', 'project', 'ensure', 'experience', 'similar', 'background', 'land', 'use', 'political', 'events', 'economic', 'swings', 'unexpected', 'shocks', 'alter', 'background', 'deforestation', 'baseline', 'emissions', 'adjust', 'automatically', 'uncertainty', 'dynamic', 'baseline', 'quantified', 'actual2', 'observations', 'current', 'baselines', 'report', 'uncertainty', 'words', 'assumed', 'perfectly', 'accurate', 'year', 'year', 'pachama', 'actually', 'quantifies', 'baseline', 'uncertainty', 'constructing', 'control', 'areas', 'psuedo', 'projects', '–', 'randomly', 'selected', 'areas', 'without', 'carbon', 'project', 'psuedo', 'matching', 'control', 'area', 'carbon', 'project', 'annual', 'carbon', 'emissions', 'match', 'compute', 'baseline', 'uncertainty', 'based', 'well', 'match', 'number', 'credits', 'issued', 'adjusted', 'account', 'uncertainty', 'control', 'areas', 'compare', 'like', 'like', 'registries', 'allowed', '3.', 'unrealistically', 'aggressive', 'baselines', 'projects', 'public', 'lands', 'example', 'contrast', 'approach', 'would', 'make', 'assumptions', 'activity', 'public', 'lands', 'select', 'observe', 'control', 'areas', 'public', 'lands', 'without', 'carbon', 'projects', 'baseline', 'calculations', 'simplified', 'unified', 'across', 'project', 'types', 'today', '4.', 'pachama', 'focused', 'baseline', 'development', 'validation', 'avoided', 'deforestation', 'projects', 'additional', 'development', 'approach', 'work', 'reforestation', 'improved', 'forest', 'management', 'ifm', 'projects', 'well', 'next', 'steps', 'pachama', 'intends', 'use', 'dynamic', 'baseline', 'evaluate', 'existing', 'carbon', 'projects', 'originate', 'new', 'projects', 'take', 'validation', 'transparency', 'seriously', 'several', 'areas', 'focus', 'pachama', 'team', 'baseline', 'validation', 'want', 'demonstrate', 'dynamic', 'baseline', 'quantifies', 'project', 'emissions', 'reductions', 'accurately', 'status', 'quo', 'baseline', 'methods', 'baseline', 'uncertainty', 'also', 'working', 'quantify', 'uncertainty', 'bounds', 'around', 'dynamic', 'baseline', 'using', 'psuedo', 'projects', 'described', 'seeking', 'reduce', 'baseline', 'uncertainty', 'investigating', 'factors', 'size', 'search', 'region', 'choice', 'satellite', 'observations', 'selecting', 'control', 'areas', 'impact', 'landowners', 'pachama', 'broader', 'carbon', 'market', 'move', 'toward', 'dynamic', 'baselines', 'heard', 'concern', 'landowners', 'losing', 'predictable', 'credit', 'issuance', 'static', 'baseline', 'affords', 'even', 'though', 'dynamic', 'credit', 'issuance', 'may', 'vary', 'year-to-year', 'longer-', 'term', 'average', 'issuance', 'may', 'remain', 'fairly', 'steady', 'anticipate', 'increasing', 'prices', 'higher', 'quality', 'credits', 'compensate', 'part', 'increased', 'issuance', 'risk', 'however', 'also', 'ways', 'reduce', 'issuance', 'uncertainty', 'landowners', 'without', 'compromising', 'credit', 'integrity', 'example', 'project', 'developers', 'platform', 'like', 'pachama', 'could', 'assume', 'baseline', 'volatility', 'risk', 'provide', 'fixed', 'payments', 'landowners', 'family', 'forest', 'carbon', 'program', 'american', 'forest', 'foundation', 'piloted', 'exactly', 'type', 'risk-sharing', 'partnership', 'next', 'technical', 'article', 'share', 'initial', 'results', 'dynamic', 'baseline', 'validation', 'work', 'including', 'example', 'dynamic', 'baselines', 'real', 'projects', 'uphold', 'mission', 'increase', 'market', 'transparency', 'share', 'complete', 'validation', 'forthcoming', 'algorithm', 'validation', 'document', 'avd', 'also', 'providing', 'detailed', 'technical', 'description', 'data', 'methods', 'computing', 'dynamic', 'baseline', 'algorithm', 'methods', 'document', 'amd', 'current', 'focus', 'developing', 'validating', 'dynamic', 'baseline', 'avoided', 'deforestation', 'projects', 'extending', 'methods', 'reforestation', 'improved', 'forest', 'management', 'ifm', 'projects', 'going', 'forward', 'hope', 'share', 'ongoing', 'work', 'dynamic', 'baselines', 'frequently', 'market', 'participants', 'experts', 'general', 'public', 'pachama', 'committed', 'transparency', 'crediting', 'calculations', 'open', 'readily', 'understandable', 'stay', 'tuned', 'upcoming', 'methods', 'validation', 'documents', 'welcome', 'questions', 'feedback', 'science', 'pachama.com', 'media', 'inquiries', 'please', 'contact', 'us', 'media', 'pachama.com', 'ready', 'learn', 'get', 'touch', 'team', 'learn', 'help', 'invest', 'tech-verified', 'projects', 'start', 'project', 'ground', 'contact', 'team', 'footnotes', 'global', 'forest', 'watch', 'reported', 'gross', 'tree', 'cover', 'loss', '25.3', 'million', 'hectares', '1', '2021.', 'include', 'areas', 'tree', 'cover', 'gain', 'area', 'united', 'kingdom', 'approximately', '24.4', 'million', 'hectares', '1', 'hectare', 'equals', '10,000', 'm2', '2.47', 'acres', 'global', 'forest', 'watch', 'estimates', 'deforestation', 'co2', 'emissions', '176', 'billion', '2.', 'metric', 'tons', 'period', '2001-2021', '8.4', 'billion', 'metric', 'tons', 'per', 'year', 'annual', 'fossil', 'fuel', 'emissions', 'approximately', '34.4', 'billion', 'metric', 'tons', 'per', 'year', '1', 'fires', 'clear', 'forest', 'agriculture', 'directly', 'release', 'carbon', 'the3', 'atmosphere', 'however', 'deforestation', 'timber', 'paper', 'production', 'also', 'releases', 'carbon', 'timber', 'paper', 'products', 'decompose', 'time', 'toilet', 'paper', 'napkins', 'disposable', 'paper', 'packaging', 'within', 'several', 'months', 'years', 'cardboard', 'office', 'paper', 'newspaper', 'magazines', 'within', 'several', 'years', 'fibers', 'deteriorate', 'recycling', 'wood', 'products', 'furniture', 'longer', 'period', 'although', 'carbon', 'eventually', 'reaches', 'atmosphere', 'vm0015', 'methodology', 'avoided', 'unplanned', 'deforestation', 'example', '4.', 'methodology', 'uses', 'manually', 'selected', 'reference', 'area', 'compared', '5-year', 'average', 'deforestation', 'rates', '2015', 'in5', '1,000', 'randomly', 'sampled', '1', 'million', 'hectare', 'bounding', 'boxes', 'across', 'amazon', 'using', 'annual', 'prodes', 'deforestation', 'maps', 'produced', 'brazilian', 'space', 'agency', '2', 'average', 'difference', 'recent', '2015', 'past', '2015', 'deforestation', '40', 'references', 'friedlingstein', 'p', 'sullivan', 'jones', 'mw', 'andrew', 'rm', 'hauck', 'j', 'olsen', 'et1', 'al', 'global', 'carbon', 'budget', '2020.', 'earth', 'syst', 'sci', 'data', '2020', '12', '3269–3340', 'instituto', 'nacional', 'de', 'pesquisas', 'espaciais', 'inpe', 'prodes', '2020.', 'portal2', 'terrabrasilis.hansen', 'mc', 'potapov', 'pv', 'moore', 'r', 'hancher', 'turubanova', 'sa', 'tyukavina', 'et', 'al', 'high-resolution', 'global', 'maps', '21st-century', 'forest', 'cover', 'change', 'science', 'hansen', 'mc', 'potapov', 'pv', 'moore', 'r', 'hancher', 'turubanova', 'sa', 'tyukavina', 'a,3', 'et', 'al', 'high-resolution', 'global', 'maps', '21st-century', 'forest', 'cover', 'change', 'science']\n",
      "Num tokens:  1023\n"
     ]
    }
   ],
   "source": [
    "# Preprocess text\n",
    "stopset = list(stopwords.words(\"english\")) + list(PUNCTUATION) + ['\"', \"'\", \"-\", '’']\n",
    "\n",
    "def preprocess_text(text):\n",
    "    # Potentially add stemming\n",
    "    tokenized = nltk.word_tokenize(text.lower())\n",
    "    clean_tokens = [w for w in tokenized if w not in stopset] # Removed case, punc, stopwords\n",
    "    return clean_tokens\n",
    "\n",
    "token_text = preprocess_text(text)\n",
    "print(token_text)\n",
    "print(\"Num tokens: \", len(token_text))\n",
    "\n",
    "# Seems there are some unicode differences in ' still"
   ]
  },
  {
   "cell_type": "code",
   "execution_count": 4,
   "metadata": {},
   "outputs": [
    {
     "name": "stdout",
     "output_type": "stream",
     "text": [
      "Num chunks:  8\n"
     ]
    }
   ],
   "source": [
    "# Chunk and embed\n",
    "chunk_size = 128\n",
    "chunks = []\n",
    "i = 0\n",
    "while i < len(token_text):\n",
    "    next_text = token_text[i : i + chunk_size]\n",
    "    i += chunk_size\n",
    "    chunks.append(\" \".join(next_text))\n",
    "print(\"Num chunks: \", len(chunks))"
   ]
  },
  {
   "cell_type": "code",
   "execution_count": 5,
   "metadata": {},
   "outputs": [
    {
     "name": "stdout",
     "output_type": "stream",
     "text": [
      "technology july 7 2022 4 ways dynamic baselines transform carbon crediting today static approach baselines fails capture constantly evolving nature land use forests believe tech-driven dynamic approach transform carbon crediting four key ways last year planet lost 25.3 million hectares forest area greater size united kingdom.1 emissions associated forest loss sizable equivalent much one-tenth one-quarter fossil fuel emissions year.2 3 carbon market offers way pay landowners protect forests reduce carbon emissions paying landowners already protecting forests clearly reduce emissions carbon market produce net climate benefits credits must awarded landowners protected forest otherwise know landowner would done received funds carbon project ‘ scenario baselines become important carbon markets “ baseline ” matter baseline represents business-as-usual without carbon project number credits issued landowner annually difference project baseline carbon emissions –\n",
      "words difference emissions without carbon project surprising baseline often largest influence many carbon credits project receives result baselines rightly come increasing scrutiny baseline inaccurate project issued many credits calling question legitimacy forest carbon offsets baselines calculated today methods calculating baselines vary widely across carbon registries almost try predict future deforestation based past robust methods use actual area nearby project predict future deforestation still allow lot ad hoc project-by-project discretion selecting reference area.4 end current methods rest strong assumption future past course future unpredictable things change things possibly predict swings crop prices election outcomes pandemic things alter business-as-usual deforestation pachama analysis suggests recent deforestation differ past deforestation 40 .5 however baselines today rarely ever updated project crediting period project receives many credits due static out-of-date baseline climate ultimately suffers\n",
      "excess credits represent real emissions reductions credit registries moving toward frequent baseline updates even adopting dynamic baselines pachama actively developing testing dynamic baselines credit issuance pachama calculate dynamic baselines dynamic baseline attempt predict future deforestation pachama uses satellites observe constantly changing reality ground fact match satellite pixel project pixel outside project across range attributes distance nearest road topography forest vegetation density fig 1 matching pixels different control group scientific experiment drug trial reason actually call control areas predict would happened without carbon project observe emissions control area – matching pixels without carbon project fig 2 enterprises invest tech-veriﬁed carbon credits four ways dynamic baselines transform carbon crediting dynamic baseline observed predicted compute dynamic 1. baseline year pachama observes carbon emissions control area control area matched project ensure experience\n",
      "similar background land use political events economic swings unexpected shocks alter background deforestation baseline emissions adjust automatically uncertainty dynamic baseline quantified actual2 observations current baselines report uncertainty words assumed perfectly accurate year year pachama actually quantifies baseline uncertainty constructing control areas psuedo projects – randomly selected areas without carbon project psuedo matching control area carbon project annual carbon emissions match compute baseline uncertainty based well match number credits issued adjusted account uncertainty control areas compare like like registries allowed 3. unrealistically aggressive baselines projects public lands example contrast approach would make assumptions activity public lands select observe control areas public lands without carbon projects baseline calculations simplified unified across project types today 4. pachama focused baseline development validation avoided deforestation projects additional development approach work reforestation improved forest\n",
      "management ifm projects well next steps pachama intends use dynamic baseline evaluate existing carbon projects originate new projects take validation transparency seriously several areas focus pachama team baseline validation want demonstrate dynamic baseline quantifies project emissions reductions accurately status quo baseline methods baseline uncertainty also working quantify uncertainty bounds around dynamic baseline using psuedo projects described seeking reduce baseline uncertainty investigating factors size search region choice satellite observations selecting control areas impact landowners pachama broader carbon market move toward dynamic baselines heard concern landowners losing predictable credit issuance static baseline affords even though dynamic credit issuance may vary year-to-year longer- term average issuance may remain fairly steady anticipate increasing prices higher quality credits compensate part increased issuance risk however also ways reduce issuance uncertainty landowners without compromising credit\n",
      "integrity example project developers platform like pachama could assume baseline volatility risk provide fixed payments landowners family forest carbon program american forest foundation piloted exactly type risk-sharing partnership next technical article share initial results dynamic baseline validation work including example dynamic baselines real projects uphold mission increase market transparency share complete validation forthcoming algorithm validation document avd also providing detailed technical description data methods computing dynamic baseline algorithm methods document amd current focus developing validating dynamic baseline avoided deforestation projects extending methods reforestation improved forest management ifm projects going forward hope share ongoing work dynamic baselines frequently market participants experts general public pachama committed transparency crediting calculations open readily understandable stay tuned upcoming methods validation documents welcome questions feedback science pachama.com media inquiries please contact us media pachama.com\n",
      "ready learn get touch team learn help invest tech-verified projects start project ground contact team footnotes global forest watch reported gross tree cover loss 25.3 million hectares 1 2021. include areas tree cover gain area united kingdom approximately 24.4 million hectares 1 hectare equals 10,000 m2 2.47 acres global forest watch estimates deforestation co2 emissions 176 billion 2. metric tons period 2001-2021 8.4 billion metric tons per year annual fossil fuel emissions approximately 34.4 billion metric tons per year 1 fires clear forest agriculture directly release carbon the3 atmosphere however deforestation timber paper production also releases carbon timber paper products decompose time toilet paper napkins disposable paper packaging within several months years cardboard office paper newspaper magazines within several years fibers deteriorate recycling wood products furniture longer period\n",
      "although carbon eventually reaches atmosphere vm0015 methodology avoided unplanned deforestation example 4. methodology uses manually selected reference area compared 5-year average deforestation rates 2015 in5 1,000 randomly sampled 1 million hectare bounding boxes across amazon using annual prodes deforestation maps produced brazilian space agency 2 average difference recent 2015 past 2015 deforestation 40 references friedlingstein p sullivan jones mw andrew rm hauck j olsen et1 al global carbon budget 2020. earth syst sci data 2020 12 3269–3340 instituto nacional de pesquisas espaciais inpe prodes 2020. portal2 terrabrasilis.hansen mc potapov pv moore r hancher turubanova sa tyukavina et al high-resolution global maps 21st-century forest cover change science hansen mc potapov pv moore r hancher turubanova sa tyukavina a,3 et al high-resolution global maps 21st-century forest cover change science\n"
     ]
    }
   ],
   "source": [
    "for chunk in chunks:\n",
    "    print(chunk)"
   ]
  },
  {
   "cell_type": "code",
   "execution_count": 57,
   "metadata": {},
   "outputs": [],
   "source": [
    "# Embedder and Generator functions\n",
    "import time\n",
    "from openai import OpenAI\n",
    "client = OpenAI(api_key=\"sk-insertyourkeyhere\")\n",
    "\n",
    "def embedder(query) -> str:\n",
    "    # return np.random.rand(384)\n",
    "    response = client.embeddings.create(\n",
    "        input=query.replace(\"\\n\", \" \"),\n",
    "        model=\"text-embedding-3-small\",\n",
    "    )\n",
    "    emb = response.data[0].embedding\n",
    "    # print(\"Embedding length: \", len(emb))\n",
    "    return np.array(emb)\n",
    "\n",
    "def generator(prompt) -> str:\n",
    "    # return prompt\n",
    "    messages = [\n",
    "        {\"role\": \"user\", \"content\": prompt}\n",
    "    ]\n",
    "    response = client.chat.completions.create(\n",
    "        model=\"gpt-4o-mini\",\n",
    "        messages=messages,\n",
    "    )\n",
    "    return response.choices[0].message.content\n",
    "\n"
   ]
  },
  {
   "cell_type": "code",
   "execution_count": 22,
   "metadata": {},
   "outputs": [
    {
     "name": "stdout",
     "output_type": "stream",
     "text": [
      "Embedding length:  1536\n",
      "Embedding length:  1536\n",
      "Embedding length:  1536\n",
      "Embedding length:  1536\n",
      "Embedding length:  1536\n",
      "Embedding length:  1536\n",
      "Embedding length:  1536\n",
      "Embedding length:  1536\n"
     ]
    }
   ],
   "source": [
    "# Hugging Face\n",
    "# embed_model = SentenceTransformer(\"all-MiniLM-L6-v2\")\n",
    "# print(\"Loaded embeddings model\")\n",
    "# embeddings = np.array([embed_model.encode(c) for c in chunks])\n",
    "# print(embeddings.shape)\n",
    "\n",
    "# Random\n",
    "# embeddings = [np.random.rand(384) for _ in chunks]\n",
    "\n",
    "# Using OpenAI model\n",
    "embeddings = [embedder(chunk) for chunk in chunks]"
   ]
  },
  {
   "cell_type": "code",
   "execution_count": 15,
   "metadata": {},
   "outputs": [],
   "source": [
    "# VectorDB class\n",
    "class VectorDB:\n",
    "    def __init__(self, chunks, embeddings):\n",
    "        self.chunks = chunks\n",
    "        self.embeddings = embeddings\n",
    "        self.n = len(self.embeddings)\n",
    "\n",
    "    def get_top_k(self, query_embed, k=2):\n",
    "        # Simple kNN implementations\n",
    "        assert k <= self.n, \"Fewer than k chunks stored\"\n",
    "        top_embed_inds = list(range(k))\n",
    "        dists = [VectorDB.dist(query_embed, self.embeddings[i]) for i in top_embed_inds]\n",
    "        for i in range(k, self.n):\n",
    "            new_dist = VectorDB.dist(self.embeddings[i], query_embed)\n",
    "\n",
    "            # Replace farthest distance if current is lower\n",
    "            farthest_ind = max(range(k), key=lambda i: dists[i])\n",
    "            if dists[farthest_ind] > new_dist:\n",
    "                dists[farthest_ind] = new_dist\n",
    "                top_embed_inds[farthest_ind] = i\n",
    "\n",
    "        top_embeds = [self.embeddings[i] for i in top_embed_inds]\n",
    "        top_chunks = [self.chunks[i] for i in top_embed_inds]\n",
    "\n",
    "        return top_embeds, top_chunks\n",
    "\n",
    "    @staticmethod\n",
    "    def dist(a, b):\n",
    "        return np.linalg.norm(a-b)"
   ]
  },
  {
   "cell_type": "code",
   "execution_count": 16,
   "metadata": {},
   "outputs": [
    {
     "name": "stdout",
     "output_type": "stream",
     "text": [
      "[array([1, 0]), array([1, 1])]\n",
      "[array([1, 1]), array([0, 1]), array([1, 0])]\n",
      "Success!\n"
     ]
    }
   ],
   "source": [
    "# def almost_equal(p1, p2):\n",
    "#     return VectorDB.dist(p1, p2) <= 0.00001\n",
    "\n",
    "def point_in_list(lst, p):\n",
    "    return any(np.array_equal(p, x) for x in lst) \n",
    "\n",
    "def test_vector_db():\n",
    "    chunks = range(4)\n",
    "    p00, p01, p10, p11 = [np.array(p) for p in [(0, 0), (0, 1), (1, 0), (1, 1)]]\n",
    "    embeddings = [p00, p01, p10, p11]\n",
    "    vdb = VectorDB(chunks, embeddings)\n",
    "    embs1, _ = vdb.get_top_k(np.array([0.75, 0.5]), k=2)\n",
    "    assert all(point_in_list(embs1, x) for x in [p10, p11])\n",
    "\n",
    "    embs2, _ = vdb.get_top_k(np.array([1.5, 1.5]), k=3)\n",
    "    assert all(point_in_list(embs2, x) for x in [p10, p11, p01])\n",
    "    \n",
    "    print(embs1)\n",
    "    print(embs2)\n",
    "    print(\"Success!\")\n",
    "\n",
    "test_vector_db()"
   ]
  },
  {
   "cell_type": "markdown",
   "metadata": {},
   "source": [
    "## Prompting and Query Pipelining"
   ]
  },
  {
   "cell_type": "code",
   "execution_count": 17,
   "metadata": {},
   "outputs": [],
   "source": [
    "class RAGPipeline:\n",
    "\n",
    "    BASE_PROMPT = \"\"\"\n",
    "You are a world-class, state-of-the-art expert on {0}. \n",
    "You have been asked a question. The following is some context relevant to the topic: \n",
    "{1}\n",
    "With this in mind, here is the question: {2}\n",
    "    \"\"\"\n",
    "\n",
    "    def __init__(self, expertise: str, vdb: VectorDB, embedder, generator, k=2) -> None:\n",
    "        self.expertise = expertise\n",
    "        self.vdb = vdb\n",
    "        self.embedder = embedder\n",
    "        self.generator = generator\n",
    "        self.k = k\n",
    "\n",
    "    def assemble_prompt(self, q, docs) -> str:\n",
    "        formatted_docs = \"\"\n",
    "        for i in range(len(docs)):\n",
    "            formatted_docs += f\"CONTEXT {i+1} \\n{docs[i]}\\n\"\n",
    "\n",
    "        return RAGPipeline.BASE_PROMPT.format(self.expertise, formatted_docs, q)\n",
    "\n",
    "    def query(self, q: str) -> str:\n",
    "        q_embed = self.embedder(q)\n",
    "        _, docs = vdb.get_top_k(q_embed, self.k)\n",
    "        prompt = self.assemble_prompt(q, docs)\n",
    "        #print(prompt)\n",
    "        response = self.generator(prompt)\n",
    "        return response\n"
   ]
  },
  {
   "cell_type": "code",
   "execution_count": 58,
   "metadata": {},
   "outputs": [],
   "source": [
    "expertise = \"Carbon Capture Crediting\"\n",
    "vdb = VectorDB(chunks=chunks, embeddings=embeddings)\n",
    "rag = RAGPipeline(expertise, vdb, embedder, generator, k=2)\n",
    "\n",
    "query1 = \"What are dynamic baselines important in measuring carbon credits?\"\n",
    "query2 = \"What does the company Pachama do?\"\n",
    "query3 = \"Where can I find some resources on carbon credit research and technology?\"\n",
    "\n",
    "queries = [query1, query2, query3]"
   ]
  },
  {
   "cell_type": "code",
   "execution_count": 61,
   "metadata": {},
   "outputs": [
    {
     "name": "stdout",
     "output_type": "stream",
     "text": [
      "What are dynamic baselines important in measuring carbon credits?\n",
      "\n",
      "\n",
      "You are a world-class, state-of-the-art expert on Carbon Capture Crediting. \n",
      "You have been asked a question. The following is some context relevant to the topic: \n",
      "CONTEXT 1 \n",
      "technology july 7 2022 4 ways dynamic baselines transform carbon crediting today static approach baselines fails capture constantly evolving nature land use forests believe tech-driven dynamic approach transform carbon crediting four key ways last year planet lost 25.3 million hectares forest area greater size united kingdom.1 emissions associated forest loss sizable equivalent much one-tenth one-quarter fossil fuel emissions year.2 3 carbon market offers way pay landowners protect forests reduce carbon emissions paying landowners already protecting forests clearly reduce emissions carbon market produce net climate benefits credits must awarded landowners protected forest otherwise know landowner would done received funds carbon project ‘ scenario baselines become important carbon markets “ baseline ” matter baseline represents business-as-usual without carbon project number credits issued landowner annually difference project baseline carbon emissions –\n",
      "CONTEXT 2 \n",
      "excess credits represent real emissions reductions credit registries moving toward frequent baseline updates even adopting dynamic baselines pachama actively developing testing dynamic baselines credit issuance pachama calculate dynamic baselines dynamic baseline attempt predict future deforestation pachama uses satellites observe constantly changing reality ground fact match satellite pixel project pixel outside project across range attributes distance nearest road topography forest vegetation density fig 1 matching pixels different control group scientific experiment drug trial reason actually call control areas predict would happened without carbon project observe emissions control area – matching pixels without carbon project fig 2 enterprises invest tech-veriﬁed carbon credits four ways dynamic baselines transform carbon crediting dynamic baseline observed predicted compute dynamic 1. baseline year pachama observes carbon emissions control area control area matched project ensure experience\n",
      "\n",
      "With this in mind, here is the question: What are dynamic baselines important in measuring carbon credits?\n",
      "    \n"
     ]
    }
   ],
   "source": [
    "test_rag_pipeline = RAGPipeline(expertise, vdb, embedder, generator=lambda p: p, k=2)\n",
    "\n",
    "def test_rag():\n",
    "    print(query1 + \"\\n\")\n",
    "    a = test_rag_pipeline.query(query1) # Print prompt from within\n",
    "    print(a)\n",
    "\n",
    "test_rag()"
   ]
  },
  {
   "cell_type": "code",
   "execution_count": 59,
   "metadata": {},
   "outputs": [
    {
     "name": "stdout",
     "output_type": "stream",
     "text": [
      "What are dynamic baselines important in measuring carbon credits?\n",
      "\n",
      "Dynamic baselines are important in measuring carbon credits for several key reasons:\n",
      "\n",
      "1. **Reflect Real-Time Conditions**: Unlike static baselines, which are fixed and may not account for changes in land use, environmental conditions, or socio-economic factors over time, dynamic baselines utilize ongoing data collection to reflect the current state of emissions and carbon sequestration. This allows for a more accurate representation of the impacts of carbon projects.\n",
      "\n",
      "2. **Adaptability to Change**: The environment is constantly changing due to factors such as climate change, land management practices, and economic activities. Dynamic baselines can adjust to these changes, ensuring that the carbon credit calculations remain relevant and accurate. This adaptability helps maintain the credibility and integrity of carbon markets.\n",
      "\n",
      "3. **Improved Prediction of Future Emissions**: By incorporating advanced technologies, such as satellite monitoring and AI, dynamic baselines can predict future deforestation and emissions based on current trends, allowing projects to be more forward-looking. This predictive capability enhances the effectiveness of carbon credit projects by identifying potential risks and helps in formulating strategies for mitigation.\n",
      "\n",
      "4. **Incentivizes Better Land Management**: With dynamic baselines that consider actual carbon emissions from control areas, landowners and project developers are incentivized to adopt better land management practices. They can demonstrate and quantify the real emissions reductions they achieve compared to what would have occurred in the absence of the project, ensuring that credited emissions reductions are genuine and impactful.\n",
      "\n",
      "Overall, the use of dynamic baselines enhances the accuracy, credibility, and effectiveness of carbon credit systems by ensuring that the assessment of emissions reductions is based on real, evolving data rather than outdated static conditions. This results in a more robust carbon market and greater environmental benefits.\n",
      "\n",
      "-----------------\n",
      "What does the company Pachama do?\n",
      "\n",
      "Pachama is a company focused on enhancing the integrity and transparency of carbon credit markets, particularly in relation to forestry and land management projects. They utilize advanced technologies, including dynamic baseline methods, to accurately quantify emissions reductions from carbon projects, such as avoided deforestation, reforestation, and improved forest management. \n",
      "\n",
      "Pachama's approach involves partnering with project developers and landowners, facilitating risk-sharing arrangements to provide more predictable credit issuance, even as they adapt to the variability inherent in dynamic baseline calculations. They aim to reduce uncertainty in baseline assessments and provide clearer insights into carbon credits generated from various projects. Overall, Pachama is dedicated to promoting high-quality carbon credits and advancing market transparency, thereby contributing significantly to climate action and carbon reduction efforts.\n",
      "\n",
      "-----------------\n",
      "Where can I find some resources on carbon credit research and technology?\n",
      "\n",
      "You can find valuable resources on carbon credit research and technology from a variety of sources. Here are some suggestions:\n",
      "\n",
      "1. **Academic Journals**:\n",
      "   - Look for journals focused on environmental science, climate change, and carbon markets such as *Environmental Science & Policy*, *Journal of Cleaner Production*, and *Carbon Management*. These often feature peer-reviewed articles on the latest research in carbon capture and crediting.\n",
      "\n",
      "2. **Reports from Research Institutions**:\n",
      "   - Institutions like the **World Resources Institute (WRI)**, **International Institute for Environment and Development (IIED)**, and **The Nature Conservancy** publish detailed reports on carbon credits and related technologies.\n",
      "   - The **IPCC (Intergovernmental Panel on Climate Change)** also offers comprehensive assessments and reports on climate solutions including carbon credit mechanisms.\n",
      "\n",
      "3. **Online Databases**:\n",
      "   - Websites like **Google Scholar** and **ResearchGate** can help you find academic papers and published research related to carbon credits and capture technologies. \n",
      "\n",
      "4. **Carbon Credit Standards and Organizations**:\n",
      "   - The **Verified Carbon Standard (VCS)** and **Gold Standard** provide technical documentation and methodologies for carbon credit projects. They often release resources on best practices in crediting.\n",
      "   - The **Carbon Credit Quality Initiative** has literature addressing the integrity and quality of carbon credits.\n",
      "\n",
      "5. **Conferences and Workshops**:\n",
      "   - Attend conferences such as the **Conference of the Parties (COP)** meetings or events organized by the **Carbon Market Institute** or the **Global Carbon Forum**. These gatherings often showcase the latest research and technology in the field.\n",
      "\n",
      "6. **Webinars and Online Courses**:\n",
      "   - Platforms like **Coursera**, **edX**, and **FutureLearn** offer courses related to climate change, sustainability, and carbon markets. Webinars often conducted by environmental NGOs or academic institutions can also provide insights.\n",
      "\n",
      "7. **Government and Intergovernmental Resources**:\n",
      "   - Look for resources published by government agencies (like the EPA in the U.S.) or international organizations (like the UN Framework Convention on Climate Change) regarding carbon credit verification and methodologies.\n",
      "\n",
      "By exploring these resources, you can gain in-depth knowledge and stay updated on advancements in carbon capture crediting technologies.\n",
      "\n",
      "-----------------\n"
     ]
    }
   ],
   "source": [
    "for q in queries:\n",
    "    print(q + \"\\n\")\n",
    "    a = rag.query(q)\n",
    "    print(a + \"\\n\")\n",
    "    print(\"-----------------\")"
   ]
  },
  {
   "cell_type": "markdown",
   "metadata": {},
   "source": [
    "## Sandbox"
   ]
  },
  {
   "cell_type": "code",
   "execution_count": null,
   "metadata": {},
   "outputs": [],
   "source": [
    "from transformers import AutoTokenizer, AutoModel\n",
    "import torch\n",
    "\n",
    "# Load pre-trained model and tokenizer\n",
    "model_name = \"distilbert-base-uncased\"\n",
    "tokenizer = AutoTokenizer.from_pretrained(model_name)\n",
    "model = AutoModel.from_pretrained(model_name)\n",
    "\n",
    "# Example text chunks\n",
    "chunks = [\n",
    "    \"This is the first chunk of text.\",\n",
    "    \"Here is another chunk, different from the first one.\",\n",
    "    \"This chunk is also a piece of text.\"\n",
    "]\n",
    "\n",
    "# Tokenize and generate embeddings\n",
    "inputs = tokenizer(chunks, padding=True, truncation=True, return_tensors='pt')\n",
    "\n",
    "# HF models are still hanging on load :/"
   ]
  },
  {
   "cell_type": "code",
   "execution_count": null,
   "metadata": {},
   "outputs": [],
   "source": [
    "inputs"
   ]
  },
  {
   "cell_type": "code",
   "execution_count": null,
   "metadata": {},
   "outputs": [],
   "source": [
    "with torch.no_grad():\n",
    "    outputs = model(**inputs)\n",
    "\n",
    "# Get the embeddings (taking the mean of the token embeddings for simplicity)\n",
    "embeddings = outputs.last_hidden_state.mean(dim=1)\n",
    "\n",
    "# Print the embeddings\n",
    "for chunk, embedding in zip(chunks, embeddings):\n",
    "    print(f\"Chunk: {chunk}\")\n",
    "    print(f\"Embedding: {embedding.numpy()}\\n\")\n"
   ]
  },
  {
   "cell_type": "code",
   "execution_count": 48,
   "metadata": {},
   "outputs": [
    {
     "name": "stdout",
     "output_type": "stream",
     "text": [
      "ChatCompletion(id='chatcmpl-9nXqL33h7uBsAICAOesJJbTVzAXRV', choices=[Choice(finish_reason='stop', index=0, logprobs=None, message=ChatCompletionMessage(content='Test received! How can I assist you today?', role='assistant', function_call=None, tool_calls=None))], created=1721595193, model='gpt-4o-mini-2024-07-18', object='chat.completion', service_tier=None, system_fingerprint='fp_661538dc1f', usage=CompletionUsage(completion_tokens=10, prompt_tokens=8, total_tokens=18))\n"
     ]
    }
   ],
   "source": [
    "r = generator(\"test\")"
   ]
  },
  {
   "cell_type": "code",
   "execution_count": 51,
   "metadata": {},
   "outputs": [
    {
     "data": {
      "text/plain": [
       "[Choice(finish_reason='stop', index=0, logprobs=None, message=ChatCompletionMessage(content='Test received! How can I assist you today?', role='assistant', function_call=None, tool_calls=None))]"
      ]
     },
     "execution_count": 51,
     "metadata": {},
     "output_type": "execute_result"
    }
   ],
   "source": [
    "r.choices"
   ]
  },
  {
   "cell_type": "code",
   "execution_count": null,
   "metadata": {},
   "outputs": [],
   "source": []
  }
 ],
 "metadata": {
  "kernelspec": {
   "display_name": "py10",
   "language": "python",
   "name": "python3"
  },
  "language_info": {
   "codemirror_mode": {
    "name": "ipython",
    "version": 3
   },
   "file_extension": ".py",
   "mimetype": "text/x-python",
   "name": "python",
   "nbconvert_exporter": "python",
   "pygments_lexer": "ipython3",
   "version": "3.10.13"
  }
 },
 "nbformat": 4,
 "nbformat_minor": 2
}
